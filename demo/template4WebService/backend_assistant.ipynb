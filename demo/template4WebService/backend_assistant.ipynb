{
 "cells": [
  {
   "cell_type": "code",
   "execution_count": 1,
   "metadata": {},
   "outputs": [
    {
     "name": "stdout",
     "output_type": "stream",
     "text": [
      "['Add Surface Information', 'Aspect', 'Clip', 'Contour', 'Euclidean Distance', 'Fill', 'Flow Direction', 'Interpolate Shape', 'Kriging', 'Reclassify', 'Slope', 'Zonal Statistics', 'Slice', 'Kernel Density', 'Intersect', 'Plus', 'Times', 'Con', 'Buffer', 'Dissolve', 'Spatial Join', 'IDW', 'Extract by Mask', 'Divide', 'NDVI'] ['Attributes features with spatial information derived from a surface.', 'Derives the aspect from each cell of a raster surface. The aspect identifies the compass direction that the downhill slope faces for each location.', 'Cuts out a portion of a raster dataset, mosaic dataset, or image service layer/ Extracts input features that overlay the clip features.', 'Creates a feature class of contours from a raster surface.', 'Calculates, for each cell, the Euclidean distance to the closest source.', 'Fills sinks in a surface raster to remove small imperfections in the data.', 'Creates a raster of flow direction from each cell to its downslope neighbor, or neighbors, using D8, Multiple Flow Direction (MFD) or D-Infinity (DINF) methods', 'Creates 3D features by interpolating z-values from a surface.', 'Interpolates a raster surface from points using kriging.', 'Reclassifies (or changes) the values in a raster.', 'Identifies the slope (gradient or steepness) from each cell of a raster.', 'Calculates statistics on values of a raster within the zones of another dataset.', 'Divides the range of raster values into classes using various methods such as equal interval or natural breaks.', 'Calculates a magnitude-per-unit area from point or polyline features using a kernel function to fit a smoothly tapered surface to each point or polyline.', 'Computes a geometric intersection of the input features. Features or portions of features which overlap in all layers and/or feature classes will be written to the output feature class.', 'Adds (sums) the values of two rasters on a cell-by-cell basis.', 'Multiplies the values of two rasters on a cell-by-cell basis.', 'Performs a conditional if/else evaluation on each of the input cells of an input raster.', 'Creates buffer polygons around input features to a specified distance.', 'Aggregates features based on specified attributes.', 'Joins attributes from one feature to another based on the spatial relationship. The target features and the joined attributes from the join features are written to the output feature class.', 'Interpolates a raster surface from points using an inverse distance weighted (IDW) technique.', 'Extracts the cells of a raster that correspond to the areas defined by a mask.', 'Divides the values of two rasters on a cell-by-cell basis.', 'The normalized difference vegetation index (NDVI) is a standardized index allowing you to generate an image displaying greenness, also known as relative biomass. This index takes advantage of the contrast of characteristics between two bands from a multispectral raster dataset��the chlorophyll pigment absorption in the red band and the high reflectivity of plant material in the near-infrared (NIR) band.']\n"
     ]
    }
   ],
   "source": [
    "## Since the GeoSquare V2.0 is not open source to the public yet (2024-06-30), here, we use a demo to \n",
    "## simulate the storage and retrieval, and other interactive behavior for webservices in this application case.\n",
    "\n",
    "# Specifically, we utilize the toolboxes function of ArcGIS, which has corresponding ArcPy interfaces.\n",
    "# All WebServices are stored in the file 'WebService.csv'.\n",
    "# We perform sentence embedding on the description of each WebService,\n",
    "# resulting in a 'webservices.pth' file that contains a dictionary {\"key\": \"value\"},\n",
    "# where each 'key' is the name of a toolbox, and 'value' is the embedding of its description.\n",
    "\n",
    "import torch\n",
    "from transformers import AutoTokenizer, AutoModel\n",
    "\n",
    "model_name = 'BAAI/bge-m3'\n",
    "tokenizer = AutoTokenizer.from_pretrained(model_name)\n",
    "model = AutoModel.from_pretrained(model_name)\n",
    "\n",
    "device = 'cpu'\n",
    "model.to(device)\n",
    "\n",
    "def generate_embedding(text):\n",
    "    input = tokenizer(text, return_tensors='pt', padding=True, truncation=True).to(device)\n",
    "    with torch.no_grad():\n",
    "        output = model(**input)\n",
    "        embedding = output.last_hidden_state[:,0,:]\n",
    "        embedding = torch.nn.functional.normalize(embedding, p=2, dim=1)\n",
    "        return embedding\n",
    "\n",
    "import pandas as pd\n",
    "\n",
    "# Load the CSV file\n",
    "file_path = r'D:\\Work\\Data\\Paper_Projects\\GEEKnowledgeTemplate\\demo\\template4WebService\\data\\WebServices.csv'\n",
    "df = pd.read_csv(file_path)\n",
    "\n",
    "tools = df['Tool Name'].dropna().unique().tolist()\n",
    "descriptions = df['Description'].dropna().unique().tolist()\n",
    "\n",
    "embeddings_dict = {}\n",
    "for i, tool in enumerate(tools):\n",
    "    embeddings_dict[tool] = generate_embedding(descriptions[i])\n",
    "\n",
    "torch.save(embeddings_dict, 'webservices.pth')"
   ]
  }
 ],
 "metadata": {
  "kernelspec": {
   "display_name": "Python 3",
   "language": "python",
   "name": "python3"
  },
  "language_info": {
   "codemirror_mode": {
    "name": "ipython",
    "version": 3
   },
   "file_extension": ".py",
   "mimetype": "text/x-python",
   "name": "python",
   "nbconvert_exporter": "python",
   "pygments_lexer": "ipython3",
   "version": "3.9.2"
  }
 },
 "nbformat": 4,
 "nbformat_minor": 2
}
